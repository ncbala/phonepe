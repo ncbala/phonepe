{
  "nbformat": 4,
  "nbformat_minor": 0,
  "metadata": {
    "colab": {
      "provenance": []
    },
    "kernelspec": {
      "name": "python3",
      "display_name": "Python 3"
    },
    "language_info": {
      "name": "python"
    }
  },
  "cells": [
    {
      "cell_type": "markdown",
      "source": [
        "# **Required Package Installations**"
      ],
      "metadata": {
        "id": "u8JRVQOpzatq"
      }
    },
    {
      "cell_type": "code",
      "source": [
        "!pip install cloud-sql-python-connector"
      ],
      "metadata": {
        "colab": {
          "base_uri": "https://localhost:8080/"
        },
        "id": "5GTW9vgqzRgs",
        "outputId": "df7b4e63-454e-4d55-b8cd-7fd3389568d8"
      },
      "execution_count": null,
      "outputs": [
        {
          "output_type": "stream",
          "name": "stdout",
          "text": [
            "Requirement already satisfied: cloud-sql-python-connector in /usr/local/lib/python3.10/dist-packages (1.12.0)\n",
            "Requirement already satisfied: aiofiles in /usr/local/lib/python3.10/dist-packages (from cloud-sql-python-connector) (24.1.0)\n",
            "Requirement already satisfied: aiohttp in /usr/local/lib/python3.10/dist-packages (from cloud-sql-python-connector) (3.10.2)\n",
            "Requirement already satisfied: cryptography>=42.0.0 in /usr/local/lib/python3.10/dist-packages (from cloud-sql-python-connector) (42.0.8)\n",
            "Requirement already satisfied: Requests in /usr/local/lib/python3.10/dist-packages (from cloud-sql-python-connector) (2.32.3)\n",
            "Requirement already satisfied: google-auth>=2.28.0 in /usr/local/lib/python3.10/dist-packages (from cloud-sql-python-connector) (2.33.0)\n",
            "Requirement already satisfied: cffi>=1.12 in /usr/local/lib/python3.10/dist-packages (from cryptography>=42.0.0->cloud-sql-python-connector) (1.17.0)\n",
            "Requirement already satisfied: cachetools<6.0,>=2.0.0 in /usr/local/lib/python3.10/dist-packages (from google-auth>=2.28.0->cloud-sql-python-connector) (5.4.0)\n",
            "Requirement already satisfied: pyasn1-modules>=0.2.1 in /usr/local/lib/python3.10/dist-packages (from google-auth>=2.28.0->cloud-sql-python-connector) (0.4.0)\n",
            "Requirement already satisfied: rsa<5,>=3.1.4 in /usr/local/lib/python3.10/dist-packages (from google-auth>=2.28.0->cloud-sql-python-connector) (4.9)\n",
            "Requirement already satisfied: aiohappyeyeballs>=2.3.0 in /usr/local/lib/python3.10/dist-packages (from aiohttp->cloud-sql-python-connector) (2.3.5)\n",
            "Requirement already satisfied: aiosignal>=1.1.2 in /usr/local/lib/python3.10/dist-packages (from aiohttp->cloud-sql-python-connector) (1.3.1)\n",
            "Requirement already satisfied: attrs>=17.3.0 in /usr/local/lib/python3.10/dist-packages (from aiohttp->cloud-sql-python-connector) (24.2.0)\n",
            "Requirement already satisfied: frozenlist>=1.1.1 in /usr/local/lib/python3.10/dist-packages (from aiohttp->cloud-sql-python-connector) (1.4.1)\n",
            "Requirement already satisfied: multidict<7.0,>=4.5 in /usr/local/lib/python3.10/dist-packages (from aiohttp->cloud-sql-python-connector) (6.0.5)\n",
            "Requirement already satisfied: yarl<2.0,>=1.0 in /usr/local/lib/python3.10/dist-packages (from aiohttp->cloud-sql-python-connector) (1.9.4)\n",
            "Requirement already satisfied: async-timeout<5.0,>=4.0 in /usr/local/lib/python3.10/dist-packages (from aiohttp->cloud-sql-python-connector) (4.0.3)\n",
            "Requirement already satisfied: charset-normalizer<4,>=2 in /usr/local/lib/python3.10/dist-packages (from Requests->cloud-sql-python-connector) (3.3.2)\n",
            "Requirement already satisfied: idna<4,>=2.5 in /usr/local/lib/python3.10/dist-packages (from Requests->cloud-sql-python-connector) (3.7)\n",
            "Requirement already satisfied: urllib3<3,>=1.21.1 in /usr/local/lib/python3.10/dist-packages (from Requests->cloud-sql-python-connector) (2.0.7)\n",
            "Requirement already satisfied: certifi>=2017.4.17 in /usr/local/lib/python3.10/dist-packages (from Requests->cloud-sql-python-connector) (2024.7.4)\n",
            "Requirement already satisfied: pycparser in /usr/local/lib/python3.10/dist-packages (from cffi>=1.12->cryptography>=42.0.0->cloud-sql-python-connector) (2.22)\n",
            "Requirement already satisfied: pyasn1<0.7.0,>=0.4.6 in /usr/local/lib/python3.10/dist-packages (from pyasn1-modules>=0.2.1->google-auth>=2.28.0->cloud-sql-python-connector) (0.6.0)\n"
          ]
        }
      ]
    },
    {
      "cell_type": "code",
      "source": [
        "!pip install pymysql"
      ],
      "metadata": {
        "colab": {
          "base_uri": "https://localhost:8080/"
        },
        "id": "phJ3OX0wzQ_Q",
        "outputId": "10b891a6-b860-4058-a70f-7b9d98885dde"
      },
      "execution_count": null,
      "outputs": [
        {
          "output_type": "stream",
          "name": "stdout",
          "text": [
            "Requirement already satisfied: pymysql in /usr/local/lib/python3.10/dist-packages (1.1.1)\n"
          ]
        }
      ]
    },
    {
      "cell_type": "code",
      "source": [
        "project_id=\"<your GCP project id\"\n",
        "!gcloud config set project {project_id}"
      ],
      "metadata": {
        "colab": {
          "base_uri": "https://localhost:8080/"
        },
        "id": "aN7CxwySzrBe",
        "outputId": "b593b914-d75b-47b1-c6be-ee6d3bd88b45"
      },
      "execution_count": null,
      "outputs": [
        {
          "output_type": "stream",
          "name": "stdout",
          "text": [
            "Updated property [core/project].\n"
          ]
        }
      ]
    },
    {
      "cell_type": "markdown",
      "source": [
        "# **Authenticate User**"
      ],
      "metadata": {
        "id": "0VkT3RVT0Bkc"
      }
    },
    {
      "cell_type": "code",
      "source": [
        "from google.colab import auth\n",
        "auth.authenticate_user()"
      ],
      "metadata": {
        "id": "45mFKutbz-1s"
      },
      "execution_count": null,
      "outputs": []
    },
    {
      "cell_type": "code",
      "source": [
        "from pp_dbconnect import PPDbConnector\n",
        "\n",
        "conname='<your db connection string>'\n",
        "user= '<your db login>'\n",
        "password='<your password>'\n",
        "db='phonepe-bn'\n",
        "pp_connector = PPDbConnector(conname,user,password,db)\n",
        "conn = pp_connector.connect()"
      ],
      "metadata": {
        "colab": {
          "base_uri": "https://localhost:8080/"
        },
        "id": "U1ABMwoB02rH",
        "outputId": "3ba792df-9f3b-4e55-ec53-17658e4e5ace"
      },
      "execution_count": null,
      "outputs": [
        {
          "output_type": "stream",
          "name": "stdout",
          "text": [
            "Successfully connected to 'phonepe-bn' database!! \n"
          ]
        }
      ]
    },
    {
      "cell_type": "code",
      "source": [
        "!pip install -q streamlit\n",
        "!pip install streamlit-option-menu\n",
        "!pip install plotly\n",
        "!pip install plotly_express"
      ],
      "metadata": {
        "colab": {
          "base_uri": "https://localhost:8080/"
        },
        "id": "8yt6aPJS0AkV",
        "outputId": "a11f55f7-d4a1-449b-da25-dde3c22a5058",
        "collapsed": true
      },
      "execution_count": null,
      "outputs": [
        {
          "output_type": "stream",
          "name": "stdout",
          "text": [
            "Requirement already satisfied: streamlit-option-menu in /usr/local/lib/python3.10/dist-packages (0.3.13)\n",
            "Requirement already satisfied: streamlit>=0.63 in /usr/local/lib/python3.10/dist-packages (from streamlit-option-menu) (1.37.1)\n",
            "Requirement already satisfied: altair<6,>=4.0 in /usr/local/lib/python3.10/dist-packages (from streamlit>=0.63->streamlit-option-menu) (4.2.2)\n",
            "Requirement already satisfied: blinker<2,>=1.0.0 in /usr/lib/python3/dist-packages (from streamlit>=0.63->streamlit-option-menu) (1.4)\n",
            "Requirement already satisfied: cachetools<6,>=4.0 in /usr/local/lib/python3.10/dist-packages (from streamlit>=0.63->streamlit-option-menu) (5.4.0)\n",
            "Requirement already satisfied: click<9,>=7.0 in /usr/local/lib/python3.10/dist-packages (from streamlit>=0.63->streamlit-option-menu) (8.1.7)\n",
            "Requirement already satisfied: numpy<3,>=1.20 in /usr/local/lib/python3.10/dist-packages (from streamlit>=0.63->streamlit-option-menu) (1.26.4)\n",
            "Requirement already satisfied: packaging<25,>=20 in /usr/local/lib/python3.10/dist-packages (from streamlit>=0.63->streamlit-option-menu) (24.1)\n",
            "Requirement already satisfied: pandas<3,>=1.3.0 in /usr/local/lib/python3.10/dist-packages (from streamlit>=0.63->streamlit-option-menu) (2.1.4)\n",
            "Requirement already satisfied: pillow<11,>=7.1.0 in /usr/local/lib/python3.10/dist-packages (from streamlit>=0.63->streamlit-option-menu) (9.4.0)\n",
            "Requirement already satisfied: protobuf<6,>=3.20 in /usr/local/lib/python3.10/dist-packages (from streamlit>=0.63->streamlit-option-menu) (3.20.3)\n",
            "Requirement already satisfied: pyarrow>=7.0 in /usr/local/lib/python3.10/dist-packages (from streamlit>=0.63->streamlit-option-menu) (14.0.2)\n",
            "Requirement already satisfied: requests<3,>=2.27 in /usr/local/lib/python3.10/dist-packages (from streamlit>=0.63->streamlit-option-menu) (2.32.3)\n",
            "Requirement already satisfied: rich<14,>=10.14.0 in /usr/local/lib/python3.10/dist-packages (from streamlit>=0.63->streamlit-option-menu) (13.7.1)\n",
            "Requirement already satisfied: tenacity<9,>=8.1.0 in /usr/local/lib/python3.10/dist-packages (from streamlit>=0.63->streamlit-option-menu) (8.5.0)\n",
            "Requirement already satisfied: toml<2,>=0.10.1 in /usr/local/lib/python3.10/dist-packages (from streamlit>=0.63->streamlit-option-menu) (0.10.2)\n",
            "Requirement already satisfied: typing-extensions<5,>=4.3.0 in /usr/local/lib/python3.10/dist-packages (from streamlit>=0.63->streamlit-option-menu) (4.12.2)\n",
            "Requirement already satisfied: gitpython!=3.1.19,<4,>=3.0.7 in /usr/local/lib/python3.10/dist-packages (from streamlit>=0.63->streamlit-option-menu) (3.1.43)\n",
            "Requirement already satisfied: pydeck<1,>=0.8.0b4 in /usr/local/lib/python3.10/dist-packages (from streamlit>=0.63->streamlit-option-menu) (0.9.1)\n",
            "Requirement already satisfied: tornado<7,>=6.0.3 in /usr/local/lib/python3.10/dist-packages (from streamlit>=0.63->streamlit-option-menu) (6.3.3)\n",
            "Requirement already satisfied: watchdog<5,>=2.1.5 in /usr/local/lib/python3.10/dist-packages (from streamlit>=0.63->streamlit-option-menu) (4.0.2)\n",
            "Requirement already satisfied: entrypoints in /usr/local/lib/python3.10/dist-packages (from altair<6,>=4.0->streamlit>=0.63->streamlit-option-menu) (0.4)\n",
            "Requirement already satisfied: jinja2 in /usr/local/lib/python3.10/dist-packages (from altair<6,>=4.0->streamlit>=0.63->streamlit-option-menu) (3.1.4)\n",
            "Requirement already satisfied: jsonschema>=3.0 in /usr/local/lib/python3.10/dist-packages (from altair<6,>=4.0->streamlit>=0.63->streamlit-option-menu) (4.23.0)\n",
            "Requirement already satisfied: toolz in /usr/local/lib/python3.10/dist-packages (from altair<6,>=4.0->streamlit>=0.63->streamlit-option-menu) (0.12.1)\n",
            "Requirement already satisfied: gitdb<5,>=4.0.1 in /usr/local/lib/python3.10/dist-packages (from gitpython!=3.1.19,<4,>=3.0.7->streamlit>=0.63->streamlit-option-menu) (4.0.11)\n",
            "Requirement already satisfied: python-dateutil>=2.8.2 in /usr/local/lib/python3.10/dist-packages (from pandas<3,>=1.3.0->streamlit>=0.63->streamlit-option-menu) (2.8.2)\n",
            "Requirement already satisfied: pytz>=2020.1 in /usr/local/lib/python3.10/dist-packages (from pandas<3,>=1.3.0->streamlit>=0.63->streamlit-option-menu) (2024.1)\n",
            "Requirement already satisfied: tzdata>=2022.1 in /usr/local/lib/python3.10/dist-packages (from pandas<3,>=1.3.0->streamlit>=0.63->streamlit-option-menu) (2024.1)\n",
            "Requirement already satisfied: charset-normalizer<4,>=2 in /usr/local/lib/python3.10/dist-packages (from requests<3,>=2.27->streamlit>=0.63->streamlit-option-menu) (3.3.2)\n",
            "Requirement already satisfied: idna<4,>=2.5 in /usr/local/lib/python3.10/dist-packages (from requests<3,>=2.27->streamlit>=0.63->streamlit-option-menu) (3.7)\n",
            "Requirement already satisfied: urllib3<3,>=1.21.1 in /usr/local/lib/python3.10/dist-packages (from requests<3,>=2.27->streamlit>=0.63->streamlit-option-menu) (2.0.7)\n",
            "Requirement already satisfied: certifi>=2017.4.17 in /usr/local/lib/python3.10/dist-packages (from requests<3,>=2.27->streamlit>=0.63->streamlit-option-menu) (2024.7.4)\n",
            "Requirement already satisfied: markdown-it-py>=2.2.0 in /usr/local/lib/python3.10/dist-packages (from rich<14,>=10.14.0->streamlit>=0.63->streamlit-option-menu) (3.0.0)\n",
            "Requirement already satisfied: pygments<3.0.0,>=2.13.0 in /usr/local/lib/python3.10/dist-packages (from rich<14,>=10.14.0->streamlit>=0.63->streamlit-option-menu) (2.16.1)\n",
            "Requirement already satisfied: smmap<6,>=3.0.1 in /usr/local/lib/python3.10/dist-packages (from gitdb<5,>=4.0.1->gitpython!=3.1.19,<4,>=3.0.7->streamlit>=0.63->streamlit-option-menu) (5.0.1)\n",
            "Requirement already satisfied: MarkupSafe>=2.0 in /usr/local/lib/python3.10/dist-packages (from jinja2->altair<6,>=4.0->streamlit>=0.63->streamlit-option-menu) (2.1.5)\n",
            "Requirement already satisfied: attrs>=22.2.0 in /usr/local/lib/python3.10/dist-packages (from jsonschema>=3.0->altair<6,>=4.0->streamlit>=0.63->streamlit-option-menu) (24.2.0)\n",
            "Requirement already satisfied: jsonschema-specifications>=2023.03.6 in /usr/local/lib/python3.10/dist-packages (from jsonschema>=3.0->altair<6,>=4.0->streamlit>=0.63->streamlit-option-menu) (2023.12.1)\n",
            "Requirement already satisfied: referencing>=0.28.4 in /usr/local/lib/python3.10/dist-packages (from jsonschema>=3.0->altair<6,>=4.0->streamlit>=0.63->streamlit-option-menu) (0.35.1)\n",
            "Requirement already satisfied: rpds-py>=0.7.1 in /usr/local/lib/python3.10/dist-packages (from jsonschema>=3.0->altair<6,>=4.0->streamlit>=0.63->streamlit-option-menu) (0.20.0)\n",
            "Requirement already satisfied: mdurl~=0.1 in /usr/local/lib/python3.10/dist-packages (from markdown-it-py>=2.2.0->rich<14,>=10.14.0->streamlit>=0.63->streamlit-option-menu) (0.1.2)\n",
            "Requirement already satisfied: six>=1.5 in /usr/local/lib/python3.10/dist-packages (from python-dateutil>=2.8.2->pandas<3,>=1.3.0->streamlit>=0.63->streamlit-option-menu) (1.16.0)\n",
            "Requirement already satisfied: plotly in /usr/local/lib/python3.10/dist-packages (5.15.0)\n",
            "Requirement already satisfied: tenacity>=6.2.0 in /usr/local/lib/python3.10/dist-packages (from plotly) (8.5.0)\n",
            "Requirement already satisfied: packaging in /usr/local/lib/python3.10/dist-packages (from plotly) (24.1)\n",
            "Collecting plotly_express\n",
            "  Downloading plotly_express-0.4.1-py2.py3-none-any.whl.metadata (1.7 kB)\n",
            "Requirement already satisfied: pandas>=0.20.0 in /usr/local/lib/python3.10/dist-packages (from plotly_express) (2.1.4)\n",
            "Requirement already satisfied: plotly>=4.1.0 in /usr/local/lib/python3.10/dist-packages (from plotly_express) (5.15.0)\n",
            "Requirement already satisfied: statsmodels>=0.9.0 in /usr/local/lib/python3.10/dist-packages (from plotly_express) (0.14.2)\n",
            "Requirement already satisfied: scipy>=0.18 in /usr/local/lib/python3.10/dist-packages (from plotly_express) (1.13.1)\n",
            "Requirement already satisfied: patsy>=0.5 in /usr/local/lib/python3.10/dist-packages (from plotly_express) (0.5.6)\n",
            "Requirement already satisfied: numpy>=1.11 in /usr/local/lib/python3.10/dist-packages (from plotly_express) (1.26.4)\n",
            "Requirement already satisfied: python-dateutil>=2.8.2 in /usr/local/lib/python3.10/dist-packages (from pandas>=0.20.0->plotly_express) (2.8.2)\n",
            "Requirement already satisfied: pytz>=2020.1 in /usr/local/lib/python3.10/dist-packages (from pandas>=0.20.0->plotly_express) (2024.1)\n",
            "Requirement already satisfied: tzdata>=2022.1 in /usr/local/lib/python3.10/dist-packages (from pandas>=0.20.0->plotly_express) (2024.1)\n",
            "Requirement already satisfied: six in /usr/local/lib/python3.10/dist-packages (from patsy>=0.5->plotly_express) (1.16.0)\n",
            "Requirement already satisfied: tenacity>=6.2.0 in /usr/local/lib/python3.10/dist-packages (from plotly>=4.1.0->plotly_express) (8.5.0)\n",
            "Requirement already satisfied: packaging in /usr/local/lib/python3.10/dist-packages (from plotly>=4.1.0->plotly_express) (24.1)\n",
            "Downloading plotly_express-0.4.1-py2.py3-none-any.whl (2.9 kB)\n",
            "Installing collected packages: plotly_express\n",
            "Successfully installed plotly_express-0.4.1\n"
          ]
        }
      ]
    },
    {
      "cell_type": "code",
      "execution_count": null,
      "metadata": {
        "colab": {
          "base_uri": "https://localhost:8080/"
        },
        "id": "ETWzD8HanH17",
        "outputId": "5f8ef776-8c90-456a-8b6f-128cb339c23f"
      },
      "outputs": [
        {
          "output_type": "stream",
          "name": "stdout",
          "text": [
            "Overwriting pp_slit_app.py\n"
          ]
        }
      ],
      "source": [
        "%%writefile pp_slit_app.py\n",
        "'''\n",
        "  Phonepe - Streamlit WebApp\n",
        "'''\n",
        "import streamlit as st\n",
        "from streamlit_option_menu import option_menu\n",
        "import pandas as pd\n",
        "import seaborn as sns\n",
        "import matplotlib.pyplot as plt\n",
        "from pathlib import Path\n",
        "import sys\n",
        "import locale\n",
        "import plotly.express as px\n",
        "import plotly\n",
        "import json\n",
        "#import requests\n",
        "from datetime import date\n",
        "\n",
        "sys.path.append(str(Path('pp_utils.py').resolve()))\n",
        "from pp_utils import fetch_dash, get_years_list, get_quarters_list, get_states_list\n",
        "from pp_dbconnect import PPDbConnector\n",
        "\n",
        "def connect_to_db():\n",
        "  conname='<your db connection string>'\n",
        "  user= '<your sql login>'\n",
        "  password='<your sql password>'\n",
        "  db='phonepe-bn'\n",
        "  pp_connector = PPDbConnector(conname,user,password,db)\n",
        "  conn = pp_connector.connect()\n",
        "  return conn\n",
        "\n",
        "\n",
        "# Initialize session state variables\n",
        "if 'conn' not in st.session_state:\n",
        "  st.session_state.conn=connect_to_db()\n",
        "\n",
        "if 'years' not in st.session_state:\n",
        "  st.session_state.years=get_years_list()\n",
        "\n",
        "if 'quarters' not in st.session_state:\n",
        "  st.session_state.quarters=get_quarters_list()\n",
        "\n",
        "if 'states' not in st.session_state:\n",
        "  st.session_state.states=get_states_list(st.session_state.conn)\n",
        "\n",
        "if 'selected_year' not in st.session_state:\n",
        "  st.session_state.selected_year = None\n",
        "\n",
        "if 'selected_quarter' not in st.session_state:\n",
        "  st.session_state.selected_quarter = None\n",
        "\n",
        "if 'selected_state' not in st.session_state:\n",
        "  st.session_state.selected_state = None\n",
        "\n",
        "if 'object_type' not in st.session_state:\n",
        "  st.session_state.object_type='Transaction'\n",
        "\n",
        "if 'data' not in st.session_state:\n",
        "  st.session_state.data=fetch_dash(st.session_state.conn,st.session_state.object_type,st.session_state.selected_year,st.session_state.selected_quarter,st.session_state.selected_state)\n",
        "\n",
        "def to_quarter_label(quarter):\n",
        "  return quarter[1]\n",
        "\n",
        "def to_state_label(state):\n",
        "  return st.session_state.states['State'][state-1]\n",
        "\n",
        "@st.cache_data\n",
        "def load_geojson(f):\n",
        "  return json.load(open(f, \"r\"))\n",
        "\n",
        "# Use full width of the page\n",
        "st.set_page_config(layout='wide')\n",
        "\n",
        "st.title('PhonePe:')\n",
        "option_menu(key='object_type', menu_title=None, options=['Transaction','Insurance', 'User'], orientation='horizontal')\n",
        "\n",
        "#Get dashboard\n",
        "st.session_state.data = fetch_dash(st.session_state.conn,st.session_state.object_type,st.session_state.selected_year,st.session_state.selected_quarter,st.session_state.selected_state)\n",
        "\n",
        "dashboard=st.container()\n",
        "with dashboard:\n",
        "  # Title\n",
        "  st.subheader(f'''{st.session_state.object_type}''')\n",
        "\n",
        "  # Filters\n",
        "  filters=st.container()\n",
        "  with filters:\n",
        "    st.subheader('Timeline')\n",
        "    _year, _quarter, _state,_ = st.columns([20,20,30,30])\n",
        "    _year.selectbox('Year', options=st.session_state.years, key='selected_year', index=0, placeholder='Choose Year')\n",
        "    _quarter.selectbox('Quarter', options=st.session_state.quarters, key='selected_quarter', format_func=to_quarter_label, placeholder='Choose Quarter' )\n",
        "\n",
        "  # Map\n",
        "  if 'by_geo' in st.session_state.data and st.session_state.data['by_geo']['charts'][0]['data'].shape[0] >0:\n",
        "    df=st.session_state.data['by_geo']['charts'][0]['data']\n",
        "    metric_cols = df.drop(columns=['State Code', 'State']).columns.to_list()\n",
        "    states_india = load_geojson(\"states_india.geojson\")\n",
        "    fig = px.choropleth(df,\n",
        "                        locations=\"State\",\n",
        "                        featureidkey=\"properties.st_nm\",\n",
        "                        geojson=states_india,\n",
        "                        color=metric_cols[0],\n",
        "                        hover_name='State',\n",
        "                        hover_data=metric_cols,\n",
        "                        color_continuous_scale='Inferno_r',\n",
        "                        center={\"lat\":23.26, \"lon\":77.41},\n",
        "                        fitbounds='locations',\n",
        "                        scope='asia',\n",
        "                        title=f\"{metric_cols[0]} By State\",\n",
        "                        height=1500)\n",
        "\n",
        "    fig.update_layout(height=700, width=950, font=dict(family=\"Arial, Helvetica, sans-serif\",size=24,), title_x=0.5)\n",
        "    fig.update_layout(coloraxis_colorbar_x=-0.25,)\n",
        "    fig.update_geos(fitbounds='locations', visible=False)\n",
        "    st.plotly_chart(fig,user_container_width=True)\n",
        "  else:\n",
        "    st.write('Data not available')\n",
        "\n",
        "  # Grand Totals\n",
        "  if 'grand_total' in st.session_state.data:\n",
        "    gt_view = st.container()\n",
        "    gt = st.session_state.data['grand_total']\n",
        "    gt_charts = gt['charts']\n",
        "    with gt_view:\n",
        "      st.subheader(f'''{gt['name']}''')\n",
        "      gtc1, gtc2, _ = st.columns([25,25,50])\n",
        "      gt1 = gtc1.metric(gt_charts[0]['title'], value=gt_charts[0]['value'])\n",
        "      gt2 = gtc2.metric(gt_charts[1]['title'], value=gt_charts[1]['value'])\n",
        "\n",
        "  if 'det_total' in st.session_state.data:\n",
        "    det_view = st.container()\n",
        "    det_total= st.session_state.data['det_total']\n",
        "    det_charts=det_total['charts']\n",
        "    d=dict()\n",
        "    d['x']=list()\n",
        "    d['y']=list()\n",
        "    for i in range(len(det_charts)):\n",
        "      d['x'].append(det_charts[i]['title'])\n",
        "      d['y'].append(det_charts[i]['value'])\n",
        "\n",
        "    df=pd.DataFrame(d)\n",
        "    with det_view:\n",
        "      st.subheader(f'''{det_total['name']}''')\n",
        "      fig,ax= plt.subplots(figsize=(27,3))\n",
        "      sns.barplot(data=df,x='x', y='y',ax=ax,width=0.9,hue='x')\n",
        "      st.pyplot(fig)\n",
        "\n",
        "  # Top\n",
        "  if 'top' in st.session_state.data:\n",
        "    top_view = st.container()\n",
        "    top = st.session_state.data['top']\n",
        "    top_charts=top['charts']\n",
        "    with top_view:\n",
        "      # Subheader for top chart section\n",
        "      st.subheader(f'''{top['name']}''')\n",
        "      fig, (a1,a2,a3) = plt.subplots(figsize=(27,3), ncols =3)\n",
        "      sns.barplot(data=top_charts[0]['data'],x=top_charts[0]['data'].columns[2], y=top_charts[0]['data'].columns[0], ax=a1,orient='h', width=0.3)\n",
        "      a1.set_title(top_charts[0]['title'], fontsize = 15)\n",
        "      a1.set_ylabel(top_charts[0]['data'].columns[0])\n",
        "      a1.set_yticklabels(a1.get_yticklabels(), rotation=45, ha=\"right\")\n",
        "\n",
        "      sns.barplot(data=top_charts[1]['data'], x=top_charts[1]['data'].columns[2], y=top_charts[1]['data'].columns[0], ax=a2, orient='h',width=0.3)\n",
        "      a2.set_title(top_charts[1]['title'], fontsize = 15)\n",
        "      a2.set_ylabel(top_charts[1]['data'].columns[0])\n",
        "      a2.set_yticklabels(a2.get_yticklabels(), rotation=45, ha=\"right\")\n",
        "\n",
        "      sns.barplot(data=top_charts[2]['data'], x=top_charts[2]['data'].columns[2], y=top_charts[2]['data'].columns[0], ax=a3, orient='h',width=0.3)\n",
        "      a3.set_title(top_charts[2]['title'], fontsize = 15)\n",
        "      a3.set_ylabel(top_charts[2]['data'].columns[0])\n",
        "      a3.set_yticklabels(a3.get_yticklabels(), rotation=45, ha=\"right\")\n",
        "      st.pyplot(fig)\n",
        "\n",
        "\n"
      ]
    },
    {
      "cell_type": "code",
      "source": [
        "! wget -q -O - ipv4.icanhazip.com"
      ],
      "metadata": {
        "colab": {
          "base_uri": "https://localhost:8080/"
        },
        "id": "ni6fHx7y3KAR",
        "outputId": "03730fc9-9093-4100-c79c-7c9ad9ea0671"
      },
      "execution_count": null,
      "outputs": [
        {
          "output_type": "stream",
          "name": "stdout",
          "text": [
            "34.83.79.138\n"
          ]
        }
      ]
    },
    {
      "cell_type": "code",
      "source": [
        "!streamlit run /content/pp_slit_app.py &>/content/logs.txt &\n",
        "!npx localtunnel --port 8501"
      ],
      "metadata": {
        "colab": {
          "base_uri": "https://localhost:8080/"
        },
        "id": "P0foY1-63KpI",
        "outputId": "a7776a22-b9c2-4728-f8de-7ce1d545a208"
      },
      "execution_count": null,
      "outputs": [
        {
          "output_type": "stream",
          "name": "stdout",
          "text": [
            "your url is: https://tall-buses-burn.loca.lt\n",
            "^C\n"
          ]
        }
      ]
    }
  ]
}