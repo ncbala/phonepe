{
  "nbformat": 4,
  "nbformat_minor": 0,
  "metadata": {
    "colab": {
      "provenance": []
    },
    "kernelspec": {
      "name": "python3",
      "display_name": "Python 3"
    },
    "language_info": {
      "name": "python"
    }
  },
  "cells": [
    {
      "cell_type": "code",
      "execution_count": null,
      "metadata": {
        "id": "nOkQu78l5lAC",
        "colab": {
          "base_uri": "https://localhost:8080/"
        },
        "outputId": "3d8b6227-96bb-45d2-b4fa-d186927f287a"
      },
      "outputs": [
        {
          "output_type": "stream",
          "name": "stdout",
          "text": [
            "Updated property [core/project].\n"
          ]
        }
      ],
      "source": [
        "from google.colab import auth\n",
        "\n",
        "# Aunthenticate to Google Colab\n",
        "auth.authenticate_user()\n",
        "project_id=\"<project id>\"\n",
        "\n",
        "#Configure Google Cloud\n",
        "!gcloud config set project {project_id}\n",
        "\n",
        "'''\n",
        "  Enable Google SQL Admin API Services\n",
        "'''\n",
        "# Enable Cloud SQL Admin API\n",
        "!gcloud services enable sqladmin.googleapis.com"
      ]
    },
    {
      "cell_type": "code",
      "source": [
        "!pip install cloud-sql-python-connector #package to connect SQL-Python in Cloud"
      ],
      "metadata": {
        "id": "SiAi_lnLQMq-",
        "colab": {
          "base_uri": "https://localhost:8080/",
          "height": 724
        },
        "outputId": "2010a649-7910-4fc3-9baa-9902469f09be",
        "collapsed": true
      },
      "execution_count": null,
      "outputs": [
        {
          "output_type": "stream",
          "name": "stdout",
          "text": [
            "Collecting cloud-sql-python-connector\n",
            "  Downloading cloud_sql_python_connector-1.11.0-py2.py3-none-any.whl (42 kB)\n",
            "\u001b[?25l     \u001b[90m━━━━━━━━━━━━━━━━━━━━━━━━━━━━━━━━━━━━━━━━\u001b[0m \u001b[32m0.0/43.0 kB\u001b[0m \u001b[31m?\u001b[0m eta \u001b[36m-:--:--\u001b[0m\r\u001b[2K     \u001b[90m━━━━━━━━━━━━━━━━━━━━━━━━━━━━━━━━━━━━━━━━\u001b[0m \u001b[32m43.0/43.0 kB\u001b[0m \u001b[31m1.9 MB/s\u001b[0m eta \u001b[36m0:00:00\u001b[0m\n",
            "\u001b[?25hRequirement already satisfied: aiohttp in /usr/local/lib/python3.10/dist-packages (from cloud-sql-python-connector) (3.9.5)\n",
            "Requirement already satisfied: cryptography>=42.0.0 in /usr/local/lib/python3.10/dist-packages (from cloud-sql-python-connector) (42.0.8)\n",
            "Requirement already satisfied: Requests in /usr/local/lib/python3.10/dist-packages (from cloud-sql-python-connector) (2.31.0)\n",
            "Collecting google-auth>=2.28.0 (from cloud-sql-python-connector)\n",
            "  Downloading google_auth-2.32.0-py2.py3-none-any.whl (195 kB)\n",
            "\u001b[2K     \u001b[90m━━━━━━━━━━━━━━━━━━━━━━━━━━━━━━━━━━━━━━━━\u001b[0m \u001b[32m195.5/195.5 kB\u001b[0m \u001b[31m9.0 MB/s\u001b[0m eta \u001b[36m0:00:00\u001b[0m\n",
            "\u001b[?25hRequirement already satisfied: cffi>=1.12 in /usr/local/lib/python3.10/dist-packages (from cryptography>=42.0.0->cloud-sql-python-connector) (1.16.0)\n",
            "Requirement already satisfied: cachetools<6.0,>=2.0.0 in /usr/local/lib/python3.10/dist-packages (from google-auth>=2.28.0->cloud-sql-python-connector) (5.3.3)\n",
            "Requirement already satisfied: pyasn1-modules>=0.2.1 in /usr/local/lib/python3.10/dist-packages (from google-auth>=2.28.0->cloud-sql-python-connector) (0.4.0)\n",
            "Requirement already satisfied: rsa<5,>=3.1.4 in /usr/local/lib/python3.10/dist-packages (from google-auth>=2.28.0->cloud-sql-python-connector) (4.9)\n",
            "Requirement already satisfied: aiosignal>=1.1.2 in /usr/local/lib/python3.10/dist-packages (from aiohttp->cloud-sql-python-connector) (1.3.1)\n",
            "Requirement already satisfied: attrs>=17.3.0 in /usr/local/lib/python3.10/dist-packages (from aiohttp->cloud-sql-python-connector) (23.2.0)\n",
            "Requirement already satisfied: frozenlist>=1.1.1 in /usr/local/lib/python3.10/dist-packages (from aiohttp->cloud-sql-python-connector) (1.4.1)\n",
            "Requirement already satisfied: multidict<7.0,>=4.5 in /usr/local/lib/python3.10/dist-packages (from aiohttp->cloud-sql-python-connector) (6.0.5)\n",
            "Requirement already satisfied: yarl<2.0,>=1.0 in /usr/local/lib/python3.10/dist-packages (from aiohttp->cloud-sql-python-connector) (1.9.4)\n",
            "Requirement already satisfied: async-timeout<5.0,>=4.0 in /usr/local/lib/python3.10/dist-packages (from aiohttp->cloud-sql-python-connector) (4.0.3)\n",
            "Requirement already satisfied: charset-normalizer<4,>=2 in /usr/local/lib/python3.10/dist-packages (from Requests->cloud-sql-python-connector) (3.3.2)\n",
            "Requirement already satisfied: idna<4,>=2.5 in /usr/local/lib/python3.10/dist-packages (from Requests->cloud-sql-python-connector) (3.7)\n",
            "Requirement already satisfied: urllib3<3,>=1.21.1 in /usr/local/lib/python3.10/dist-packages (from Requests->cloud-sql-python-connector) (2.0.7)\n",
            "Requirement already satisfied: certifi>=2017.4.17 in /usr/local/lib/python3.10/dist-packages (from Requests->cloud-sql-python-connector) (2024.7.4)\n",
            "Requirement already satisfied: pycparser in /usr/local/lib/python3.10/dist-packages (from cffi>=1.12->cryptography>=42.0.0->cloud-sql-python-connector) (2.22)\n",
            "Requirement already satisfied: pyasn1<0.7.0,>=0.4.6 in /usr/local/lib/python3.10/dist-packages (from pyasn1-modules>=0.2.1->google-auth>=2.28.0->cloud-sql-python-connector) (0.6.0)\n",
            "Installing collected packages: google-auth, cloud-sql-python-connector\n",
            "  Attempting uninstall: google-auth\n",
            "    Found existing installation: google-auth 2.27.0\n",
            "    Uninstalling google-auth-2.27.0:\n",
            "      Successfully uninstalled google-auth-2.27.0\n",
            "\u001b[31mERROR: pip's dependency resolver does not currently take into account all the packages that are installed. This behaviour is the source of the following dependency conflicts.\n",
            "google-colab 1.0.0 requires google-auth==2.27.0, but you have google-auth 2.32.0 which is incompatible.\u001b[0m\u001b[31m\n",
            "\u001b[0mSuccessfully installed cloud-sql-python-connector-1.11.0 google-auth-2.32.0\n"
          ]
        },
        {
          "output_type": "display_data",
          "data": {
            "application/vnd.colab-display-data+json": {
              "pip_warning": {
                "packages": [
                  "google"
                ]
              },
              "id": "55b3cc8e658840dabb9d75ba96435131"
            }
          },
          "metadata": {}
        }
      ]
    },
    {
      "cell_type": "code",
      "source": [
        "!pip install pymysql #Python pkg that creates API access to SQL"
      ],
      "metadata": {
        "id": "ee8a3oL1QWOd",
        "colab": {
          "base_uri": "https://localhost:8080/"
        },
        "outputId": "3dd0dba8-5090-4d80-a657-02dc103d1bf0"
      },
      "execution_count": null,
      "outputs": [
        {
          "output_type": "stream",
          "name": "stdout",
          "text": [
            "Collecting pymysql\n",
            "  Downloading PyMySQL-1.1.1-py3-none-any.whl (44 kB)\n",
            "\u001b[2K     \u001b[90m━━━━━━━━━━━━━━━━━━━━━━━━━━━━━━━━━━━━━━━━\u001b[0m \u001b[32m45.0/45.0 kB\u001b[0m \u001b[31m1.1 MB/s\u001b[0m eta \u001b[36m0:00:00\u001b[0m\n",
            "\u001b[?25hInstalling collected packages: pymysql\n",
            "Successfully installed pymysql-1.1.1\n"
          ]
        }
      ]
    },
    {
      "cell_type": "code",
      "source": [
        "'''\n",
        "  Drop DB if exists and create it afresh\n",
        "'''\n",
        "db_name='phonepe-bn'\n",
        "instance_name = \"<your mysql instance name>\"\n",
        "!gcloud sql databases delete {db_name} --instance={instance_name}\n",
        "\n",
        "print(f'''Database '{db_name}' deleted successfully !!''')"
      ],
      "metadata": {
        "id": "k2N6a_rh5sXQ",
        "colab": {
          "base_uri": "https://localhost:8080/"
        },
        "outputId": "76c11850-4049-4d5f-da72-d66b6921ecf9"
      },
      "execution_count": null,
      "outputs": [
        {
          "output_type": "stream",
          "name": "stdout",
          "text": [
            "The database will be deleted. Any data stored in the database will be destroyed.\n",
            " You cannot undo this action.\n",
            "\n",
            "Do you want to continue (Y/n)?  Y\n",
            "\n",
            "Deleted database [phonepe-bn].\n",
            "Database 'phonepe-bn' deleted successfully !!\n"
          ]
        }
      ]
    },
    {
      "cell_type": "code",
      "source": [
        "!gcloud sql databases create {db_name} --instance={instance_name}\n",
        "print(f'''Database '{db_name}' created successfully !!''')"
      ],
      "metadata": {
        "id": "WzjfuDzzQI9i"
      },
      "execution_count": null,
      "outputs": []
    },
    {
      "cell_type": "code",
      "source": [
        "'''\n",
        "  Connect to Cloud SQL DB to create the schema for 'phonepe-bn' database\n",
        "'''\n",
        "region = 'us-central1'\n",
        "project_id=\"<your GCP project name\"\n",
        "\n",
        "from pp_dbconnect import PPDbConnector\n",
        "cloudsql_conn_name = f'''{project_id}:{region}:{instance_name}'''\n",
        "db_user= '<your sql login>'\n",
        "db_password='<your password>'\n",
        "pool = PPDbConnector(cloudsql_conn_name,db_user,db_password,db_name)"
      ],
      "metadata": {
        "id": "Z1zlVDcR58Qf"
      },
      "execution_count": null,
      "outputs": []
    },
    {
      "cell_type": "code",
      "source": [
        "'''\n",
        "  Create the required tables for 'phonepe' database\n",
        "'''\n",
        "import sqlalchemy\n",
        "with pool.connect() as db:\n",
        "  db.execute(\n",
        "    sqlalchemy.text(\n",
        "      '''CREATE TABLE IF NOT EXISTS geo (\n",
        "        id INT NOT NULL,\n",
        "        geo_type ENUM('CON','STA','DIS','CIT','PIN'),\n",
        "        name VARCHAR(255) NOT NULL,\n",
        "        latitude INT,\n",
        "        longitude INT,\n",
        "        parent_id INT,\n",
        "        PRIMARY KEY (id),\n",
        "        INDEX name (name));'''))\n",
        "\n",
        "  db.execute(\n",
        "    sqlalchemy.text(\n",
        "      '''CREATE TABLE IF NOT EXISTS transaction_agg (\n",
        "        id INT NOT NULL,\n",
        "        year INT NOT NULL,\n",
        "        quarter INT NOT NULL,\n",
        "        geo_id INT NOT NULL,\n",
        "        category VARCHAR(255) NOT NULL,\n",
        "        stat_type VARCHAR(50) NOT NULL,\n",
        "        count BIGINT NOT NULL DEFAULT 0,\n",
        "        amount FLOAT NOT NULL DEFAULT 0,\n",
        "        PRIMARY KEY (id),\n",
        "        CONSTRAINT rec_unique UNIQUE(year,quarter,geo_id,category),\n",
        "        INDEX rec_index (year,quarter,geo_id),\n",
        "        FOREIGN KEY (geo_id) REFERENCES geo(id) ON DELETE CASCADE);'''))\n",
        "\n",
        "  db.execute(\n",
        "      sqlalchemy.text(\n",
        "          '''CREATE TABLE IF NOT EXISTS transaction_top (\n",
        "          id INT NOT NULL,\n",
        "          year INT NOT NULL,\n",
        "          quarter INT NOT NULL,\n",
        "          geo_id INT NOT NULL,\n",
        "          top_in ENUM('CON','STA') NOT NULL DEFAULT 'CON',\n",
        "          stat_type VARCHAR(50) NOT NULL,\n",
        "          count BIGINT NOT NULL DEFAULT 0,\n",
        "          amount FLOAT NOT NULL DEFAULT 0,\n",
        "          PRIMARY KEY (id),\n",
        "          CONSTRAINT rec_unique UNIQUE(year,quarter,geo_id,top_in),\n",
        "          INDEX rec_index (year,quarter,geo_id),\n",
        "          FOREIGN KEY (geo_id) REFERENCES geo(id) ON DELETE CASCADE);'''))\n",
        "\n",
        "  db.execute(\n",
        "      sqlalchemy.text(\n",
        "          '''CREATE TABLE IF NOT EXISTS transaction_hover (\n",
        "          id INT NOT NULL,\n",
        "          year INT NOT NULL,\n",
        "          quarter INT NOT NULL,\n",
        "          geo_id INT NOT NULL,\n",
        "          stat_type VARCHAR(50) NOT NULL,\n",
        "          count BIGINT NOT NULL DEFAULT 0,\n",
        "          amount FLOAT NOT NULL DEFAULT 0,\n",
        "          PRIMARY KEY (id),\n",
        "          CONSTRAINT rec_unique UNIQUE(year,quarter,geo_id),\n",
        "          INDEX rec_index (year,quarter,geo_id),\n",
        "          FOREIGN KEY (geo_id) REFERENCES geo(id) ON DELETE CASCADE);'''))\n",
        "\n",
        "  db.execute(\n",
        "      sqlalchemy.text(\n",
        "          '''CREATE TABLE IF NOT EXISTS insurance_agg (\n",
        "          id INT NOT NULL,\n",
        "          year INT NOT NULL,\n",
        "          quarter INT NOT NULL,\n",
        "          geo_id INT NOT NULL,\n",
        "          category VARCHAR(255) NOT NULL,\n",
        "          stat_type VARCHAR(50) NOT NULL,\n",
        "          count BIGINT NOT NULL DEFAULT 0,\n",
        "          amount FLOAT NOT NULL DEFAULT 0,\n",
        "          PRIMARY KEY (id),\n",
        "          CONSTRAINT rec_unique UNIQUE(year,quarter,geo_id,category),\n",
        "          INDEX rec_index (year,quarter,geo_id),\n",
        "          FOREIGN KEY (geo_id) REFERENCES geo(id) ON DELETE CASCADE);'''))\n",
        "\n",
        "  db.execute(\n",
        "      sqlalchemy.text(\n",
        "          '''CREATE TABLE IF NOT EXISTS insurance_top (\n",
        "          id INT NOT NULL,\n",
        "          year INT NOT NULL,\n",
        "          quarter INT NOT NULL,\n",
        "          geo_id INT NOT NULL,\n",
        "          top_in ENUM('CON','STA') NOT NULL DEFAULT 'CON',\n",
        "          stat_type VARCHAR(50) NOT NULL,\n",
        "          count BIGINT NOT NULL DEFAULT 0,\n",
        "          amount FLOAT NOT NULL DEFAULT 0,\n",
        "          PRIMARY KEY (id),\n",
        "          CONSTRAINT rec_unique UNIQUE(year,quarter,geo_id, top_in),\n",
        "          INDEX rec_index (year,quarter,geo_id),\n",
        "          FOREIGN KEY (geo_id) REFERENCES geo(id) ON DELETE CASCADE);'''))\n",
        "\n",
        "  db.execute(\n",
        "      sqlalchemy.text(\n",
        "          '''CREATE TABLE IF NOT EXISTS insurance_hover (\n",
        "          id INT NOT NULL,\n",
        "          year INT NOT NULL,\n",
        "          quarter INT NOT NULL,\n",
        "          geo_id INT NOT NULL,\n",
        "          stat_type VARCHAR(50) NOT NULL,\n",
        "          count BIGINT NOT NULL DEFAULT 0,\n",
        "          amount FLOAT NOT NULL DEFAULT 0,\n",
        "          PRIMARY KEY (id),\n",
        "          CONSTRAINT rec_unique UNIQUE(year,quarter,geo_id),\n",
        "          INDEX rec_index (year,quarter,geo_id),\n",
        "          FOREIGN KEY (geo_id) REFERENCES geo(id) ON DELETE CASCADE);'''))\n",
        "\n",
        "  db.execute(\n",
        "    sqlalchemy.text('''CREATE TABLE IF NOT EXISTS user_agg (\n",
        "          id INT NOT NULL,\n",
        "          year INT NOT NULL,\n",
        "          quarter INT NOT NULL,\n",
        "          geo_id INT NOT NULL,\n",
        "          stat_type VARCHAR(50) NOT NULL,\n",
        "          reg_users INT NOT NULL DEFAULT 0,\n",
        "          app_opens BIGINT NOT NULL DEFAULT 0,\n",
        "          PRIMARY KEY (id),\n",
        "          CONSTRAINT rec_unique UNIQUE(year,quarter,geo_id),\n",
        "          INDEX rec_index (year,quarter,geo_id),\n",
        "          FOREIGN KEY (geo_id) REFERENCES geo(id) ON DELETE CASCADE);'''))\n",
        "\n",
        "  db.execute(\n",
        "    sqlalchemy.text('''CREATE TABLE IF NOT EXISTS device_agg (\n",
        "          id INT NOT NULL,\n",
        "          year INT NOT NULL,\n",
        "          quarter INT NOT NULL,\n",
        "          geo_id INT NOT NULL,\n",
        "          brand VARCHAR(255) NOT NULL,\n",
        "          count BIGINT NOT NULL,\n",
        "          percentage INT NOT NULL DEFAULT 0,\n",
        "          PRIMARY KEY (id),\n",
        "          CONSTRAINT rec_unique UNIQUE(year,quarter,geo_id,brand),\n",
        "          INDEX rec_index (year,quarter,geo_id),\n",
        "          FOREIGN KEY (geo_id) REFERENCES geo(id) ON DELETE CASCADE);'''))\n",
        "\n",
        "  db.execute(\n",
        "    sqlalchemy.text('''CREATE TABLE IF NOT EXISTS user_top (\n",
        "          id INT NOT NULL,\n",
        "          year INT NOT NULL,\n",
        "          quarter INT NOT NULL,\n",
        "          geo_id INT NOT NULL,\n",
        "          top_in ENUM('CON','STA') NOT NULL DEFAULT 'CON',\n",
        "          stat_type VARCHAR(50) NOT NULL,\n",
        "          reg_users INT NOT NULL DEFAULT 0,\n",
        "          PRIMARY KEY (id),\n",
        "          CONSTRAINT rec_unique UNIQUE(year,quarter,geo_id,top_in),\n",
        "          INDEX rec_index (year,quarter,geo_id),\n",
        "          FOREIGN KEY (geo_id) REFERENCES geo(id) ON DELETE CASCADE);'''))\n",
        "\n",
        "  db.execute(\n",
        "    sqlalchemy.text('''CREATE TABLE IF NOT EXISTS user_hover (\n",
        "          id INT NOT NULL,\n",
        "          year INT NOT NULL,\n",
        "          quarter INT NOT NULL,\n",
        "          geo_id INT NOT NULL,\n",
        "          stat_type VARCHAR(50) NOT NULL,\n",
        "          reg_users INT NOT NULL DEFAULT 0,\n",
        "          PRIMARY KEY (id),\n",
        "          CONSTRAINT rec_unique UNIQUE(year,quarter,geo_id),\n",
        "          INDEX rec_index (year,quarter,geo_id),\n",
        "          FOREIGN KEY (geo_id) REFERENCES geo(id) ON DELETE CASCADE);'''))\n",
        "\n",
        "# Commit the above changes to DB\n",
        "db.commit()\n",
        "print( f'''Tables for '{db_name}' database successfully created !! ''')\n",
        "db.close()"
      ],
      "metadata": {
        "colab": {
          "base_uri": "https://localhost:8080/"
        },
        "id": "ysng7eWo5_oI",
        "outputId": "96e259ad-d731-4502-aef9-5917fef5ef38"
      },
      "execution_count": null,
      "outputs": [
        {
          "output_type": "stream",
          "name": "stdout",
          "text": [
            "Successfully connected to 'phonepe-bn' database!! \n",
            "Tables for 'phonepe-bn' database successfully created !! \n"
          ]
        }
      ]
    }
  ]
}